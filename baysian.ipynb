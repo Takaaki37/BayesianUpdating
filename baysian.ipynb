{
 "cells": [
  {
   "cell_type": "code",
   "execution_count": null,
   "metadata": {},
   "outputs": [],
   "source": [
    "import pandas as pd\n",
    "import os\n",
    "import shutil\n",
    "import zipfile\n",
    "from sklearn.metrics import mean_squared_error, r2_score\n",
    "import numpy as np\n",
    "import matplotlib.pyplot as plt\n",
    "from tqdm import tqdm\n",
    "import pandas as pd\n",
    "from scipy.integrate import simps\n",
    "from sklearn.metrics import confusion_matrix\n",
    "import seaborn as sns\n",
    "from sklearn.model_selection import train_test_split\n",
    "from baysian import *\n",
    "import math\n",
    "import itertools\n",
    "pd.set_option('display.max_columns', None)"
   ]
  },
  {
   "cell_type": "code",
   "execution_count": null,
   "metadata": {},
   "outputs": [],
   "source": [
    "val = pd.read_csv('./csv/val_result_merge.csv')\n",
    "test = pd.read_csv('./csv/bayesian_test.csv')"
   ]
  },
  {
   "cell_type": "code",
   "execution_count": null,
   "metadata": {},
   "outputs": [],
   "source": [
    "val.dropna()"
   ]
  },
  {
   "cell_type": "code",
   "execution_count": null,
   "metadata": {},
   "outputs": [],
   "source": [
    "test.dropna()"
   ]
  },
  {
   "cell_type": "code",
   "execution_count": null,
   "metadata": {},
   "outputs": [],
   "source": [
    "val = val.dropna()\n",
    "val['true'] = 0\n",
    "val.loc[val['treated_t'] >= 1, 'true'] = 1\n",
    "val['TF'] = 0\n",
    "val['pred_class'] = 0\n",
    "val.loc[val['pred1'] <= 0.5, 'pred_class'] = 1\n",
    "val.loc[val['true'] == val['pred_class'], 'TF'] = 1\n",
    "val.describe()\n",
    "# val"
   ]
  },
  {
   "cell_type": "code",
   "execution_count": null,
   "metadata": {},
   "outputs": [],
   "source": [
    "test = test.dropna()\n",
    "test['true'] = 0\n",
    "test.loc[test['treated_t'] >= 1, 'true'] = 1\n",
    "test['TF'] = 0\n",
    "test['pred_class'] = 0\n",
    "test.loc[test['pred1'] <= 0.5, 'pred_class'] = 1\n",
    "test.loc[test['true'] == test['pred_class'], 'TF'] = 1\n",
    "test.describe()\n",
    "# test"
   ]
  },
  {
   "cell_type": "code",
   "execution_count": null,
   "metadata": {},
   "outputs": [],
   "source": [
    "val['pred'] = val['pred1']\n",
    "test['pred'] = test['pred1']\n",
    "test"
   ]
  },
  {
   "cell_type": "code",
   "execution_count": null,
   "metadata": {},
   "outputs": [],
   "source": [
    "colname = \"train_num_raw_t\"\n",
    "\n",
    "val_co = val.query('TF == 1')\n",
    "val_in = val.query('TF == 0')\n",
    "max_, min_ = get_max_min(val, colname)\n",
    "co_, in_, val = normalize_row(val_co, val_in, val, colname, max_, min_)\n",
    "\n",
    "plot_hist(co_, in_, colname, bins=50)\n",
    "\n",
    "dd = plot_kde_hist(co_, in_, val, colname, 0.05, colname, upper_num=10000)\n",
    "\n",
    "x, co_y_lst = plot_kde(co_, colname, 0.05, colname, bins=50, TF=1)\n",
    "x, in_y_lst = plot_kde(in_, colname, 0.05, colname, bins=50, TF=0)\n",
    "\n",
    "# # def integral_df(df,colname, max_, min_, x_lst, co_y_lst, in_y_lst):\n",
    "test = integral_df(test, colname, max_, min_, x, co_y_lst, in_y_lst)\n",
    "\n",
    "\n",
    "test = update_baysian(test['pred'], \n",
    "                      \"normal_\" + colname + \"_m1\", \n",
    "                      \"normal_\" + colname + \"_m3\", \n",
    "                      \"pred_\" + colname + \"_after\",\n",
    "                      test)"
   ]
  },
  {
   "cell_type": "code",
   "execution_count": null,
   "metadata": {},
   "outputs": [],
   "source": [
    "\n",
    "COL = ['raw_t', \n",
    "       'raw_pH', \n",
    "       'tem', \n",
    "       'MC_std']\n",
    "\n",
    "\n",
    "for colname in COL:\n",
    "       print('colname', colname)\n",
    "       if colname[1] == 'MC_std':\n",
    "              num = 0.01\n",
    "       elif colname[1] == 'raw_t':\n",
    "              num = 0.02\n",
    "       else:\n",
    "              num = 0.05\n",
    "       val = pd.read_csv('./csv/val_result_merge.csv')\n",
    "       test = pd.read_csv('./csv/bayesian_test.csv')\n",
    "\n",
    "       val_co = val.query('TF == 1')\n",
    "       val_in = val.query('TF == 0')\n",
    "       max_, min_ = get_max_min(val, colname)\n",
    "       co_, in_, val = normalize_row(val_co, val_in, val, colname, max_, min_)\n",
    "\n",
    "       plot_hist(co_, in_, colname, bins=50, num=num)\n",
    "\n",
    "       x, co_y_lst = plot_kde2(co_, colname, num, colname, bins=50, TF=1)\n",
    "       x, in_y_lst = plot_kde2(in_, colname, num, colname, bins=50, TF=0)\n",
    "\n",
    "       test = integral_df(test, colname, max_, min_, x, co_y_lst, in_y_lst)\n",
    "\n",
    "       test = update_baysian(test['pred'],                      \n",
    "                            \"normal_\" + colname + \"_m1\", \n",
    "                            \"normal_\" + colname + \"_m3\", \n",
    "                            \"pred_\" + colname + \"_after\",\n",
    "                            test)\n",
    "\n",
    "       test.to_csv('./csv/bayesian_test.csv')\n",
    "\n",
    "\n",
    "\n",
    "\n"
   ]
  },
  {
   "cell_type": "code",
   "execution_count": null,
   "metadata": {},
   "outputs": [],
   "source": [
    "import math\n",
    "import itertools\n",
    "\n",
    "# COL = ['tem', 'raw_t', 'raw_pH', 'MC_std', 'gau_std']\n",
    "COL = ['tem', 'raw_t', 'raw_pH', 'MC_std']\n",
    "\n",
    "num_n = [2, 3, 4]\n",
    "\n",
    "for num in num_n:\n",
    "    print('num', num)\n",
    "    val = pd.read_csv('./csv/val_result_merge.csv')\n",
    "    test = pd.read_csv('./csv/bayesian_test.csv')\n",
    "    for colname in tqdm(itertools.permutations(COL, num), total=len(COL)):\n",
    "\n",
    "        if num == 1:\n",
    "            test = update_baysian(test['before'],                      \n",
    "                                \"normal_\" + colname[0] + \"_m1\", \n",
    "                                \"normal_\" + colname[0] + \"_m3\",\n",
    "                                \"pred_\" + colname[0] + \"_after\",\n",
    "                                test)\n",
    "\n",
    "        elif num == 2:\n",
    "            test = update_baysian(test['pred_' + colname[0] + '_after'],                      \n",
    "                                \"normal_\" + colname[1] + \"_m1\", \n",
    "                                \"normal_\" + colname[1] + \"_m3\",\n",
    "                                \"pred_\" + colname[0] + '_' + colname[1] + \"_after\",\n",
    "                                test)\n",
    "\n",
    "        elif num == 3:\n",
    "            test = update_baysian(test['pred_' + colname[0] + '_' + colname[1] + '_after'],                      \n",
    "                                \"normal_\" + colname[2] + \"_m1\", \n",
    "                                \"normal_\" + colname[2] + \"_m3\",\n",
    "                                \"pred_\" + colname[0] + '_' + colname[1] + '_' + colname[2] + \"_after\",\n",
    "                                test)\n",
    "\n",
    "        elif num == 4:\n",
    "            test = update_baysian(test['pred_' + colname[0] + '_' + colname[1] + '_' + colname[2] + '_after'],                      \n",
    "                                \"normal_\" + colname[3] + \"_m1\", \n",
    "                                \"normal_\" + colname[3] + \"_m3\",\n",
    "                                \"pred_\" + colname[0] + '_' + colname[1] + '_' + colname[2] + '_' + colname[3] + \"_after\",\n",
    "                                test)\n",
    "\n",
    "    test.to_csv('./csv/bayesian_test.csv')\n",
    "\n",
    "\n"
   ]
  }
 ],
 "metadata": {
  "kernelspec": {
   "display_name": "tensor",
   "language": "python",
   "name": "python3"
  },
  "language_info": {
   "codemirror_mode": {
    "name": "ipython",
    "version": 3
   },
   "file_extension": ".py",
   "mimetype": "text/x-python",
   "name": "python",
   "nbconvert_exporter": "python",
   "pygments_lexer": "ipython3",
   "version": "3.8.16"
  },
  "orig_nbformat": 4
 },
 "nbformat": 4,
 "nbformat_minor": 2
}
